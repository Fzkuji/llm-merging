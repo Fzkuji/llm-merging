{
 "cells": [
  {
   "cell_type": "code",
   "id": "initial_id",
   "metadata": {
    "collapsed": true,
    "ExecuteTime": {
     "end_time": "2024-09-30T07:48:39.646189Z",
     "start_time": "2024-09-30T07:48:36.762813Z"
    }
   },
   "source": [
    "from datasets import load_dataset\n",
    "\n",
    "\n",
    "# 加载HealthCareMagic-100k数据集\n",
    "dataset = load_dataset(\n",
    "    'cMedQA2',\n",
    "    'deduplicate_all',\n",
    "    trust_remote_code=True,\n",
    ")"
   ],
   "outputs": [],
   "execution_count": 11
  },
  {
   "metadata": {
    "ExecuteTime": {
     "end_time": "2024-09-30T07:48:39.651076Z",
     "start_time": "2024-09-30T07:48:39.647783Z"
    }
   },
   "cell_type": "code",
   "source": [
    "# 查看数据集的信息\n",
    "dataset"
   ],
   "id": "bbdbf83e7127633f",
   "outputs": [
    {
     "data": {
      "text/plain": [
       "DatasetDict({\n",
       "    train: Dataset({\n",
       "        features: ['question', 'answer'],\n",
       "        num_rows: 100000\n",
       "    })\n",
       "    validation: Dataset({\n",
       "        features: ['question', 'answer'],\n",
       "        num_rows: 4000\n",
       "    })\n",
       "    test: Dataset({\n",
       "        features: ['question', 'answer'],\n",
       "        num_rows: 4000\n",
       "    })\n",
       "})"
      ]
     },
     "execution_count": 12,
     "metadata": {},
     "output_type": "execute_result"
    }
   ],
   "execution_count": 12
  },
  {
   "metadata": {
    "ExecuteTime": {
     "end_time": "2024-09-30T07:48:39.654707Z",
     "start_time": "2024-09-30T07:48:39.652038Z"
    }
   },
   "cell_type": "code",
   "source": [
    "# 查看数据集的列名\n",
    "dataset.column_names"
   ],
   "id": "f6e6032a86077a62",
   "outputs": [
    {
     "data": {
      "text/plain": [
       "{'train': ['question', 'answer'],\n",
       " 'validation': ['question', 'answer'],\n",
       " 'test': ['question', 'answer']}"
      ]
     },
     "execution_count": 13,
     "metadata": {},
     "output_type": "execute_result"
    }
   ],
   "execution_count": 13
  },
  {
   "metadata": {
    "ExecuteTime": {
     "end_time": "2024-09-30T07:48:39.658490Z",
     "start_time": "2024-09-30T07:48:39.656318Z"
    }
   },
   "cell_type": "code",
   "source": [
    "train_dataset = dataset['train']\n",
    "val_dataset = dataset['validation']\n",
    "test_dataset = dataset['test']"
   ],
   "id": "afe9cfd96b805fdd",
   "outputs": [],
   "execution_count": 14
  },
  {
   "metadata": {
    "ExecuteTime": {
     "end_time": "2024-09-30T07:48:43.157350Z",
     "start_time": "2024-09-30T07:48:43.154804Z"
    }
   },
   "cell_type": "code",
   "source": [
    "# # 训练集选择5000条数据，验证集和测试集选择500条数据\n",
    "# train_dataset = train_dataset.select(range(50000))\n",
    "# val_dataset = val_dataset.select(range(2000))\n",
    "# test_dataset = test_dataset.select(range(2000))"
   ],
   "id": "f5a962f0b682823b",
   "outputs": [],
   "execution_count": 15
  },
  {
   "metadata": {
    "ExecuteTime": {
     "end_time": "2024-09-30T07:48:44.408800Z",
     "start_time": "2024-09-30T07:48:43.535297Z"
    }
   },
   "cell_type": "code",
   "source": [
    "# 将数据集保存为alpaca格式\n",
    "\"\"\"alpaca格式\n",
    "[\n",
    "    {\n",
    "        \"instruction\": \"假设您是一名医生，请回答以下选择题（直接给出答案）。\",\n",
    "        \"input\": \"问题：对医疗废物的收集，运转，贮存，处置中的疾病防治工作进行定期检测监督检査的部门是\\n选项：\\n\\t市容监督机关\\n\\t城市规划行政部门\\n\\t卫生行政主管部门\\n\\t检验检疫行政主管部门\\n\\t环境保护行政部门\",\n",
    "        \"output\": \"卫生行政主管部门\"\n",
    "    },\n",
    "    {\n",
    "        \"instruction\": \"假设您是一名医生，请回答以下选择题（直接给出答案）。\",\n",
    "        \"input\": \"问题：既治湿热泻痢，又治感冒发热的药是\\n选项：\\n\\t射干\\n\\t白头翁\\n\\t马齿苋\\n\\t穿心莲\\n\\t白花蛇舌草\",\n",
    "        \"output\": \"穿心莲\"\n",
    "    },\n",
    "    {\n",
    "        \"instruction\": \"假设您是一名医生，请回答以下选择题（直接给出答案）。\",\n",
    "        \"input\": \"问题：主要根据沸点高低分离物质的方法是\\n选项：\\n\\t膜分离法\\n\\t聚酰胺色谱法\\n\\t硅胶柱色谱法\\n\\t离子交换树脂法\\n\\t分馏法\",\n",
    "        \"output\": \"分馏法\"\n",
    "    },\n",
    "    {\n",
    "        \"instruction\": \"假设您是一名医生，请回答以下选择题（直接给出答案）。\",\n",
    "        \"input\": \"问题：不属于眼球屈光装置的结构是\\n选项：\\n\\t角膜\\n\\t房水\\n\\t巩膜\\n\\t玻璃体\\n\\t晶状体\",\n",
    "        \"output\": \"巩膜\"\n",
    "    }\n",
    "]\n",
    "\"\"\"\n",
    "\n",
    "def convert_to_alpaca_format(dataset):\n",
    "    alpaca_dataset = []\n",
    "    for data in dataset:\n",
    "        alpaca_data = {\n",
    "            \"instruction\": \"如果您是医生，请根据患者的描述回答医疗问题。\",\n",
    "            \"input\": data['question'],\n",
    "            \"output\": data['answer']\n",
    "        }\n",
    "        alpaca_dataset.append(alpaca_data)\n",
    "    return alpaca_dataset\n",
    "\n",
    "train_alpaca_dataset = convert_to_alpaca_format(train_dataset)\n",
    "val_alpaca_dataset = convert_to_alpaca_format(val_dataset)\n",
    "test_alpaca_dataset = convert_to_alpaca_format(test_dataset)\n"
   ],
   "id": "f35fa972eab65d08",
   "outputs": [],
   "execution_count": 16
  },
  {
   "metadata": {
    "ExecuteTime": {
     "end_time": "2024-09-30T07:48:44.898774Z",
     "start_time": "2024-09-30T07:48:44.592207Z"
    }
   },
   "cell_type": "code",
   "source": [
    "# 保存数据集\n",
    "import json\n",
    "\n",
    "def save_dataset(dataset, save_path):\n",
    "    # 如果文件夹不存在，则创建文件夹\n",
    "    import os\n",
    "    if not os.path.exists(os.path.dirname(save_path)):\n",
    "        os.makedirs(os.path.dirname(save_path))\n",
    "    \n",
    "    with open(save_path, 'w', encoding='utf-8') as f:\n",
    "        json.dump(dataset, f, ensure_ascii=False, indent=4)\n",
    "\n",
    "save_path = f\"./data/llama-factory\"\n",
    "\n",
    "save_dataset(train_alpaca_dataset, f\"{save_path}/train.json\")\n",
    "save_dataset(val_alpaca_dataset, f\"{save_path}/val.json\")\n",
    "save_dataset(test_alpaca_dataset, f\"{save_path}/test.json\")"
   ],
   "id": "736a339fb74c7644",
   "outputs": [],
   "execution_count": 17
  },
  {
   "metadata": {},
   "cell_type": "code",
   "outputs": [],
   "execution_count": null,
   "source": "",
   "id": "a54e4ffd455410f8"
  }
 ],
 "metadata": {
  "kernelspec": {
   "display_name": "Python 3",
   "language": "python",
   "name": "python3"
  },
  "language_info": {
   "codemirror_mode": {
    "name": "ipython",
    "version": 2
   },
   "file_extension": ".py",
   "mimetype": "text/x-python",
   "name": "python",
   "nbconvert_exporter": "python",
   "pygments_lexer": "ipython2",
   "version": "2.7.6"
  }
 },
 "nbformat": 4,
 "nbformat_minor": 5
}
