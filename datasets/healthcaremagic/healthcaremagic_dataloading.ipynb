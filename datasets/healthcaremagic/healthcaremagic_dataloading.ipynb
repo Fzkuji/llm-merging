{
 "cells": [
  {
   "cell_type": "code",
   "id": "initial_id",
   "metadata": {
    "collapsed": true,
    "ExecuteTime": {
     "end_time": "2024-09-30T07:48:35.267478Z",
     "start_time": "2024-09-30T07:48:31.981538Z"
    }
   },
   "source": [
    "from datasets import load_dataset\n",
    "\n",
    "\n",
    "# 加载HealthCareMagic-100k数据集\n",
    "dataset = load_dataset(\n",
    "    'HealthCareMagic-100k',\n",
    "    trust_remote_code=True,\n",
    ")"
   ],
   "outputs": [],
   "execution_count": 22
  },
  {
   "metadata": {
    "ExecuteTime": {
     "end_time": "2024-09-30T07:48:35.270936Z",
     "start_time": "2024-09-30T07:48:35.268677Z"
    }
   },
   "cell_type": "code",
   "source": [
    "# 查看数据集的信息\n",
    "dataset"
   ],
   "id": "bbdbf83e7127633f",
   "outputs": [
    {
     "data": {
      "text/plain": [
       "DatasetDict({\n",
       "    train: Dataset({\n",
       "        features: ['instruction', 'input', 'output'],\n",
       "        num_rows: 112165\n",
       "    })\n",
       "})"
      ]
     },
     "execution_count": 23,
     "metadata": {},
     "output_type": "execute_result"
    }
   ],
   "execution_count": 23
  },
  {
   "metadata": {
    "ExecuteTime": {
     "end_time": "2024-09-30T07:48:35.273928Z",
     "start_time": "2024-09-30T07:48:35.271528Z"
    }
   },
   "cell_type": "code",
   "source": [
    "# 查看数据集的列名\n",
    "dataset.column_names"
   ],
   "id": "f6e6032a86077a62",
   "outputs": [
    {
     "data": {
      "text/plain": [
       "{'train': ['instruction', 'input', 'output']}"
      ]
     },
     "execution_count": 24,
     "metadata": {},
     "output_type": "execute_result"
    }
   ],
   "execution_count": 24
  },
  {
   "metadata": {
    "ExecuteTime": {
     "end_time": "2024-09-30T07:48:35.281136Z",
     "start_time": "2024-09-30T07:48:35.275109Z"
    }
   },
   "cell_type": "code",
   "source": [
    "# 分割train split为train、validation和test，比例为20:1:1\n",
    "train_dataset = dataset['train'].train_test_split(test_size=0.1, seed=42)['train']\n",
    "val_dataset = dataset['train'].train_test_split(test_size=0.1, seed=42)['test']\n",
    "test_dataset = dataset['train'].train_test_split(test_size=0.1, seed=42)['test']\n"
   ],
   "id": "afe9cfd96b805fdd",
   "outputs": [],
   "execution_count": 25
  },
  {
   "metadata": {
    "ExecuteTime": {
     "end_time": "2024-09-30T07:48:35.285476Z",
     "start_time": "2024-09-30T07:48:35.281698Z"
    }
   },
   "cell_type": "code",
   "source": [
    "# 训练集选择5000条数据，验证集和测试集选择500条数据\n",
    "train_dataset = train_dataset.select(range(100000))\n",
    "val_dataset = val_dataset.select(range(4000))\n",
    "test_dataset = test_dataset.select(range(4000))"
   ],
   "id": "f5a962f0b682823b",
   "outputs": [],
   "execution_count": 26
  },
  {
   "metadata": {
    "ExecuteTime": {
     "end_time": "2024-09-30T07:48:37.227278Z",
     "start_time": "2024-09-30T07:48:35.285967Z"
    }
   },
   "cell_type": "code",
   "source": [
    "# 将数据集保存为alpaca格式\n",
    "\"\"\"alpaca格式\n",
    "[\n",
    "    {\n",
    "        \"instruction\": \"假设您是一名医生，请回答以下选择题（直接给出答案）。\",\n",
    "        \"input\": \"问题：对医疗废物的收集，运转，贮存，处置中的疾病防治工作进行定期检测监督检査的部门是\\n选项：\\n\\t市容监督机关\\n\\t城市规划行政部门\\n\\t卫生行政主管部门\\n\\t检验检疫行政主管部门\\n\\t环境保护行政部门\",\n",
    "        \"output\": \"卫生行政主管部门\"\n",
    "    },\n",
    "    {\n",
    "        \"instruction\": \"假设您是一名医生，请回答以下选择题（直接给出答案）。\",\n",
    "        \"input\": \"问题：既治湿热泻痢，又治感冒发热的药是\\n选项：\\n\\t射干\\n\\t白头翁\\n\\t马齿苋\\n\\t穿心莲\\n\\t白花蛇舌草\",\n",
    "        \"output\": \"穿心莲\"\n",
    "    },\n",
    "    {\n",
    "        \"instruction\": \"假设您是一名医生，请回答以下选择题（直接给出答案）。\",\n",
    "        \"input\": \"问题：主要根据沸点高低分离物质的方法是\\n选项：\\n\\t膜分离法\\n\\t聚酰胺色谱法\\n\\t硅胶柱色谱法\\n\\t离子交换树脂法\\n\\t分馏法\",\n",
    "        \"output\": \"分馏法\"\n",
    "    },\n",
    "    {\n",
    "        \"instruction\": \"假设您是一名医生，请回答以下选择题（直接给出答案）。\",\n",
    "        \"input\": \"问题：不属于眼球屈光装置的结构是\\n选项：\\n\\t角膜\\n\\t房水\\n\\t巩膜\\n\\t玻璃体\\n\\t晶状体\",\n",
    "        \"output\": \"巩膜\"\n",
    "    }\n",
    "]\n",
    "\"\"\"\n",
    "\n",
    "def convert_to_alpaca_format(dataset):\n",
    "    alpaca_dataset = []\n",
    "    for data in dataset:\n",
    "        alpaca_data = {\n",
    "            \"instruction\": data['instruction'],\n",
    "            \"input\": data['input'],\n",
    "            \"output\": data['output']\n",
    "        }\n",
    "        alpaca_dataset.append(alpaca_data)\n",
    "    return alpaca_dataset\n",
    "\n",
    "train_alpaca_dataset = convert_to_alpaca_format(train_dataset)\n",
    "val_alpaca_dataset = convert_to_alpaca_format(val_dataset)\n",
    "test_alpaca_dataset = convert_to_alpaca_format(test_dataset)\n"
   ],
   "id": "f35fa972eab65d08",
   "outputs": [],
   "execution_count": 27
  },
  {
   "metadata": {
    "ExecuteTime": {
     "end_time": "2024-09-30T07:48:37.767440Z",
     "start_time": "2024-09-30T07:48:37.227938Z"
    }
   },
   "cell_type": "code",
   "source": [
    "# 保存数据集\n",
    "import json\n",
    "\n",
    "def save_dataset(dataset, save_path):\n",
    "    # 如果文件夹不存在，则创建文件夹\n",
    "    import os\n",
    "    if not os.path.exists(os.path.dirname(save_path)):\n",
    "        os.makedirs(os.path.dirname(save_path))\n",
    "    \n",
    "    with open(save_path, 'w', encoding='utf-8') as f:\n",
    "        json.dump(dataset, f, ensure_ascii=False, indent=4)\n",
    "\n",
    "save_path = f\"./data/llama-factory\"\n",
    "\n",
    "save_dataset(train_alpaca_dataset, f\"{save_path}/train.json\")\n",
    "save_dataset(val_alpaca_dataset, f\"{save_path}/val.json\")\n",
    "save_dataset(test_alpaca_dataset, f\"{save_path}/test.json\")"
   ],
   "id": "736a339fb74c7644",
   "outputs": [],
   "execution_count": 28
  },
  {
   "metadata": {},
   "cell_type": "code",
   "outputs": [],
   "execution_count": null,
   "source": "",
   "id": "a54e4ffd455410f8"
  }
 ],
 "metadata": {
  "kernelspec": {
   "display_name": "Python 3",
   "language": "python",
   "name": "python3"
  },
  "language_info": {
   "codemirror_mode": {
    "name": "ipython",
    "version": 2
   },
   "file_extension": ".py",
   "mimetype": "text/x-python",
   "name": "python",
   "nbconvert_exporter": "python",
   "pygments_lexer": "ipython2",
   "version": "2.7.6"
  }
 },
 "nbformat": 4,
 "nbformat_minor": 5
}
