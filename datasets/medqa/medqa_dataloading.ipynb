{
 "cells": [
  {
   "cell_type": "code",
   "id": "initial_id",
   "metadata": {
    "collapsed": true,
    "ExecuteTime": {
     "end_time": "2024-12-16T02:46:20.861470Z",
     "start_time": "2024-12-16T02:46:20.859418Z"
    }
   },
   "source": [
    "from datasets import load_dataset\n",
    "\n",
    "'''\n",
    "['med_qa_en_source', 'med_qa_en_bigbio_qa', 'med_qa_en_4options_source', 'med_qa_en_4options_bigbio_qa', 'med_qa_zh_source', 'med_qa_zh_bigbio_qa', 'med_qa_zh_4options_source', 'med_qa_zh_4options_bigbio_qa', 'med_qa_tw_source', 'med_qa_tw_bigbio_qa', 'med_qa_tw_en_source', 'med_qa_tw_en_bigbio_qa', 'med_qa_tw_zh_source', 'med_qa_tw_zh_bigbio_qa']\n",
    "'''\n",
    "\n",
    "# 加载MedQA数据集\n",
    "dataset = load_dataset(\n",
    "    'med_qa',\n",
    "    'med_qa_en_4options_bigbio_qa',\n",
    "    # 'train',\n",
    "    trust_remote_code=True,\n",
    ")"
   ],
   "outputs": [],
   "execution_count": 3
  },
  {
   "metadata": {
    "ExecuteTime": {
     "end_time": "2024-09-05T06:34:19.494713Z",
     "start_time": "2024-09-05T06:34:19.492589Z"
    }
   },
   "cell_type": "code",
   "source": [
    "# 访问训练集和测试集\n",
    "train_dataset = dataset['train']\n",
    "test_dataset = dataset['test']\n",
    "validation_dataset = dataset['validation']"
   ],
   "id": "7bb98f68db6e2074",
   "outputs": [],
   "execution_count": 2
  },
  {
   "metadata": {
    "ExecuteTime": {
     "end_time": "2024-09-05T06:34:19.497087Z",
     "start_time": "2024-09-05T06:34:19.495459Z"
    }
   },
   "cell_type": "code",
   "source": [
    "# 查看数据集的大小\n",
    "print(len(train_dataset))\n",
    "print(len(test_dataset))\n",
    "print(len(validation_dataset))"
   ],
   "id": "d2a18f66e52f361f",
   "outputs": [
    {
     "name": "stdout",
     "output_type": "stream",
     "text": [
      "10178\n",
      "1273\n",
      "1272\n"
     ]
    }
   ],
   "execution_count": 3
  },
  {
   "metadata": {
    "ExecuteTime": {
     "end_time": "2024-08-29T06:19:53.466394Z",
     "start_time": "2024-08-29T06:19:53.464719Z"
    }
   },
   "cell_type": "code",
   "source": "print(train_dataset[0])",
   "id": "2ca231e7910dfafc",
   "outputs": [
    {
     "name": "stdout",
     "output_type": "stream",
     "text": [
      "{'meta_info': 'step2&3', 'question': 'A 23-year-old pregnant woman at 22 weeks gestation presents with burning upon urination. She states it started 1 day ago and has been worsening despite drinking more water and taking cranberry extract. She otherwise feels well and is followed by a doctor for her pregnancy. Her temperature is 97.7°F (36.5°C), blood pressure is 122/77 mmHg, pulse is 80/min, respirations are 19/min, and oxygen saturation is 98% on room air. Physical exam is notable for an absence of costovertebral angle tenderness and a gravid uterus. Which of the following is the best treatment for this patient?', 'answer_idx': 'E', 'answer': 'Nitrofurantoin', 'options': [{'key': 'A', 'value': 'Ampicillin'}, {'key': 'B', 'value': 'Ceftriaxone'}, {'key': 'C', 'value': 'Ciprofloxacin'}, {'key': 'D', 'value': 'Doxycycline'}, {'key': 'E', 'value': 'Nitrofurantoin'}]}\n"
     ]
    }
   ],
   "execution_count": 4
  },
  {
   "metadata": {},
   "cell_type": "markdown",
   "source": "## 数据集预处理用于llama-factory",
   "id": "ac96d95ccaad8f60"
  },
  {
   "metadata": {},
   "cell_type": "markdown",
   "source": "生成QA的prompt",
   "id": "6c39e834d9040883"
  },
  {
   "metadata": {
    "ExecuteTime": {
     "end_time": "2024-08-29T02:39:49.202547Z",
     "start_time": "2024-08-29T02:39:29.848583Z"
    }
   },
   "cell_type": "code",
   "source": [
    "from datasets import load_dataset\n",
    "import os\n",
    "import json\n",
    "\n",
    "# Choose Language\n",
    "language = \"zh\"  # Change this to 'en' or 'tw' for English or Traditional Chinese\n",
    "\n",
    "# Load the dataset\n",
    "dataset = load_dataset(\"med_qa\", f\"med_qa_{language}_4options_source\", trust_remote_code=True)\n",
    "\n",
    "# Define the save path\n",
    "save_path = f\"data/medical/MedQA/{language}/qa\"  # Change this path to your local directory\n",
    "os.makedirs(save_path, exist_ok=True)\n",
    "\n",
    "# Function to save data as JSON with specified columns\n",
    "def save_as_json(data, filename):\n",
    "    file_path = os.path.join(save_path, filename)\n",
    "    \n",
    "    # Modify the data to include only 'question' and 'answer' columns\n",
    "    data_to_save = [{\n",
    "        \"instruction\": \"Assuming you are a doctor, answer questions based on the patient's symptoms.\",\n",
    "        \"input\": item['question'],\n",
    "        \"output\": item['answer']\n",
    "    } for item in data]\n",
    "    \n",
    "    # Write the modified data to a JSON file\n",
    "    with open(file_path, 'w', encoding='utf-8') as f:\n",
    "        json.dump(data_to_save, f, ensure_ascii=False, indent=4)\n",
    "\n",
    "# Save the modified data for train, validation, and test splits\n",
    "save_as_json(dataset['train'], 'train.json')\n",
    "save_as_json(dataset['validation'], 'validation.json')\n",
    "save_as_json(dataset['test'], 'test.json')"
   ],
   "id": "2be62c8b2fb5598",
   "outputs": [
    {
     "data": {
      "text/plain": [
       "Downloading readme:   0%|          | 0.00/12.7k [00:00<?, ?B/s]"
      ],
      "application/vnd.jupyter.widget-view+json": {
       "version_major": 2,
       "version_minor": 0,
       "model_id": "bc4318a8de6b4495a560f76f07661dfe"
      }
     },
     "metadata": {},
     "output_type": "display_data"
    },
    {
     "data": {
      "text/plain": [
       "Downloading data:   0%|          | 0.00/4.73M [00:00<?, ?B/s]"
      ],
      "application/vnd.jupyter.widget-view+json": {
       "version_major": 2,
       "version_minor": 0,
       "model_id": "2606bf3994234879aab4bf378144cd3e"
      }
     },
     "metadata": {},
     "output_type": "display_data"
    },
    {
     "data": {
      "text/plain": [
       "Downloading data:   0%|          | 0.00/601k [00:00<?, ?B/s]"
      ],
      "application/vnd.jupyter.widget-view+json": {
       "version_major": 2,
       "version_minor": 0,
       "model_id": "bdea824bb267457cb73611b0b25efddb"
      }
     },
     "metadata": {},
     "output_type": "display_data"
    },
    {
     "data": {
      "text/plain": [
       "Downloading data:   0%|          | 0.00/603k [00:00<?, ?B/s]"
      ],
      "application/vnd.jupyter.widget-view+json": {
       "version_major": 2,
       "version_minor": 0,
       "model_id": "0c60c9ef432a4bfa85c848f5696d2c4d"
      }
     },
     "metadata": {},
     "output_type": "display_data"
    },
    {
     "data": {
      "text/plain": [
       "Generating train split:   0%|          | 0/27400 [00:00<?, ? examples/s]"
      ],
      "application/vnd.jupyter.widget-view+json": {
       "version_major": 2,
       "version_minor": 0,
       "model_id": "217e7d825ef7447ab48aba69edc93893"
      }
     },
     "metadata": {},
     "output_type": "display_data"
    },
    {
     "data": {
      "text/plain": [
       "Generating test split:   0%|          | 0/3426 [00:00<?, ? examples/s]"
      ],
      "application/vnd.jupyter.widget-view+json": {
       "version_major": 2,
       "version_minor": 0,
       "model_id": "5fc3b00d1c1048a88bb44bded77dd36f"
      }
     },
     "metadata": {},
     "output_type": "display_data"
    },
    {
     "data": {
      "text/plain": [
       "Generating validation split:   0%|          | 0/3425 [00:00<?, ? examples/s]"
      ],
      "application/vnd.jupyter.widget-view+json": {
       "version_major": 2,
       "version_minor": 0,
       "model_id": "32d6df5c098140179760559949a38eec"
      }
     },
     "metadata": {},
     "output_type": "display_data"
    }
   ],
   "execution_count": 3
  },
  {
   "metadata": {},
   "cell_type": "markdown",
   "source": "生成答案是文本的Multiple Choice的prompt（考虑了多种语言的格式）",
   "id": "26a8883fc4dec507"
  },
  {
   "metadata": {
    "ExecuteTime": {
     "end_time": "2024-08-29T04:28:36.524941Z",
     "start_time": "2024-08-29T04:28:30.785227Z"
    }
   },
   "cell_type": "code",
   "source": [
    "from datasets import load_dataset\n",
    "import os\n",
    "import json\n",
    "\n",
    "# Choose Language\n",
    "language = \"tw\"  # Change this to 'en', 'zh' or 'tw' for English, Simplified Chinese or Traditional Chinese\n",
    "\n",
    "# Load the dataset\n",
    "dataset = load_dataset(\"med_qa\", f\"med_qa_{language}_bigbio_qa\", trust_remote_code=True)\n",
    "\n",
    "# Define the save path\n",
    "save_path = f\"data/medical/MedQA/{language}/multiple-choice\"  # Change this path to your local directory\n",
    "os.makedirs(save_path, exist_ok=True)\n",
    "\n",
    "# Function to save data as JSON with specified columns\n",
    "def save_as_json(data, filename):\n",
    "    file_path = os.path.join(save_path, filename)\n",
    "    \n",
    "    # Modify the data to include only 'question' and 'answer' columns\n",
    "    if language == 'en':\n",
    "        data_to_save = [{\n",
    "            \"instruction\": \"Assuming you are a doctor, answer the following multiple-choice question based on the patient's symptoms.\",\n",
    "            \"input\": f\"Question: {item['question']}\\nOptions:\\n\" + \"\\n\".join([f\"\\t{chr(65+i)}. {choice}\" for i, choice in enumerate(item['choices'])]),\n",
    "            \"output\": item['answer'][0]  # Assuming answer is a list, and you want the first element\n",
    "        } for item in data]\n",
    "    elif language == 'zh':\n",
    "        data_to_save = [{\n",
    "            \"instruction\": \"假设您是一名医生，请根据患者的症状回答以下选择题。\",\n",
    "            \"input\": f\"问题：{item['question']}\\n选项：\\n\" + \"\\n\".join([f\"\\t{chr(65+i)}. {choice}\" for i, choice in enumerate(item['choices'])]),\n",
    "            \"output\": item['answer'][0]  # Assuming answer is a list, and you want the first element\n",
    "        } for item in data]\n",
    "    elif language == 'tw':\n",
    "        data_to_save = [{\n",
    "            \"instruction\": \"假设您是一名医生，请根据患者的症状回答以下选择题。\",\n",
    "            \"input\": f\"問題：{item['question']}\\n選項：\\n\" + \"\\n\".join([f\"\\t{chr(65+i)}. {choice}\" for i, choice in enumerate(item['choices'])]),\n",
    "            \"output\": item['answer'][0]  # Assuming answer is a list, and you want the first element\n",
    "        } for item in data]\n",
    "    else:\n",
    "        raise ValueError(f\"Language '{language}' is not supported. Please choose 'en', 'zh' or 'tw'.\")\n",
    "    \n",
    "    # Write the modified data to a JSON file\n",
    "    with open(file_path, 'w', encoding='utf-8') as f:\n",
    "        json.dump(data_to_save, f, ensure_ascii=False, indent=4)\n",
    "\n",
    "# Save the modified data for train, validation, and test splits\n",
    "save_as_json(dataset['train'], 'train.json')\n",
    "save_as_json(dataset['validation'], 'validation.json')\n",
    "save_as_json(dataset['test'], 'test.json')"
   ],
   "id": "3a25a69346b70964",
   "outputs": [],
   "execution_count": 16
  },
  {
   "metadata": {},
   "cell_type": "markdown",
   "source": "生成答案是ABCD的Multiple Choice的prompt（考虑了多种语言的格式，使用4options）",
   "id": "a39e4d02c8408699"
  },
  {
   "metadata": {
    "ExecuteTime": {
     "end_time": "2024-12-16T02:46:08.394398Z",
     "start_time": "2024-12-16T02:46:08.391756Z"
    }
   },
   "cell_type": "code",
   "source": [
    "from datasets import load_dataset\n",
    "import os\n",
    "import json\n",
    "\n",
    "# Choose Language\n",
    "language = \"en\"  # Change this to 'en' or 'zh' for English or Simplified Chinese\n",
    "\n",
    "# Load the dataset\n",
    "dataset = load_dataset(\"med_qa\", f\"med_qa_{language}_4options_bigbio_qa\", trust_remote_code=True)\n",
    "\n",
    "# Define the save path\n",
    "save_path = f\"data/medical/MedQA/{language}/multiple-choice\"  # Change this path to your local directory\n",
    "os.makedirs(save_path, exist_ok=True)\n",
    "\n",
    "# Mapping from index to letter\n",
    "index_to_letter = {0: \"A\", 1: \"B\", 2: \"C\", 3: \"D\"}\n",
    "\n",
    "# Function to save data as JSON with specified columns\n",
    "def save_as_json(data, filename):\n",
    "    file_path = os.path.join(save_path, filename)\n",
    "\n",
    "    # Modify the data to include 'question', 'choices', and 'answer' columns\n",
    "    if language == 'en':\n",
    "        data_to_save = [{\n",
    "            \"instruction\": \"Assuming you are a doctor, answer the following multiple-choice question based on the patient's symptoms. Please select the correct option and only output the corresponding letter (A, B, C, or D).\",\n",
    "            \"input\": f\"Question: {item['question']}\\nOptions:\\n\" + \"\\n\".join([f\"\\t{chr(65+i)}. {choice}.\" for i, choice in enumerate(item['choices'])]),\n",
    "            \"output\": index_to_letter[item['choices'].index(item['answer'][0])]  # Convert the correct answer to A, B, C, or D\n",
    "        } for item in data]\n",
    "    elif language == 'zh':\n",
    "        data_to_save = [{\n",
    "            \"instruction\": \"假设您是一名医生，请根据患者的症状回答以下选择题。请您选出正确的选项，并只输出对应的字母（A、B、C或D）。\",\n",
    "            \"input\": f\"问题：{item['question']}\\n选项：\\n\" + \"\\n\".join([f\"\\t{chr(65+i)}. {choice}。\" for i, choice in enumerate(item['choices'])]),\n",
    "            \"output\": index_to_letter[item['choices'].index(item['answer'][0])]  # Convert the correct answer to A, B, C, or D\n",
    "        } for item in data]\n",
    "    else:\n",
    "        raise ValueError(f\"Language '{language}' is not supported. Please choose 'en', 'zh' or 'tw'.\")\n",
    "\n",
    "    # Write the modified data to a JSON file\n",
    "    with open(file_path, 'w', encoding='utf-8') as f:\n",
    "        json.dump(data_to_save, f, ensure_ascii=False, indent=4)\n",
    "\n",
    "# Save the modified data for train, validation, and test splits\n",
    "save_as_json(dataset['train'], 'train.json')\n",
    "save_as_json(dataset['validation'], 'validation.json')\n",
    "save_as_json(dataset['test'], 'test.json')\n"
   ],
   "id": "5e6d67e49c691302",
   "outputs": [],
   "execution_count": 2
  },
  {
   "metadata": {},
   "cell_type": "markdown",
   "source": "生成答案是原始文本的Multiple Choice的prompt（考虑了多种语言的格式，使用4options）",
   "id": "bf608bcb5836ba42"
  },
  {
   "metadata": {
    "ExecuteTime": {
     "end_time": "2024-12-16T02:45:57.763558Z",
     "start_time": "2024-12-16T02:45:57.760383Z"
    }
   },
   "cell_type": "code",
   "source": [
    "from datasets import load_dataset\n",
    "import os\n",
    "import json\n",
    "\n",
    "# Choose Language\n",
    "language = \"zh\"  # Change this to 'en' or 'zh' for English or Simplified Chinese\n",
    "\n",
    "# Load the dataset\n",
    "dataset = load_dataset(\"med_qa\", f\"med_qa_{language}_4options_bigbio_qa\", trust_remote_code=True)\n",
    "\n",
    "# Define the save path\n",
    "save_path = f\"data/medical/MedQA/{language}/multiple-choice\"  # Change this path to your local directory\n",
    "os.makedirs(save_path, exist_ok=True)\n",
    "\n",
    "# Function to save data as JSON with specified columns\n",
    "def save_as_json(data, filename):\n",
    "    file_path = os.path.join(save_path, filename)\n",
    "\n",
    "    # Modify the data to include 'question', 'choices', and 'answer' columns\n",
    "    if language == 'en':\n",
    "        data_to_save = [{\n",
    "            \"instruction\": \"Assuming you are a doctor, answer the following multiple-choice question based on the patient's symptoms. Please select the correct option and only output the corresponding letter (A, B, C, or D).\",\n",
    "            \"input\": f\"Question: {item['question']}\\nOptions:\\n\" + \"\\n\".join([f\"\\t{chr(65+i)}. {choice}.\" for i, choice in enumerate(item['choices'])]),\n",
    "            \"output\": item['answer'][0]  # Convert the correct answer to A, B, C, or D\n",
    "        } for item in data]\n",
    "    elif language == 'zh':\n",
    "        data_to_save = [{\n",
    "            \"instruction\": \"假设您是一名医生，请根据患者的症状回答以下选择题。请您输出答案的文本内容（不包含选项序号）。\",\n",
    "            \"input\": f\"问题：{item['question']}\\n选项：\\n\" + \"\\n\".join([f\"\\t{chr(65+i)}. {choice}。\" for i, choice in enumerate(item['choices'])]),\n",
    "            \"output\": item['answer'][0]  # Convert the correct answer to A, B, C, or D\n",
    "        } for item in data]\n",
    "    else:\n",
    "        raise ValueError(f\"Language '{language}' is not supported. Please choose 'en', 'zh' or 'tw'.\")\n",
    "\n",
    "    # Write the modified data to a JSON file\n",
    "    with open(file_path, 'w', encoding='utf-8') as f:\n",
    "        json.dump(data_to_save, f, ensure_ascii=False, indent=4)\n",
    "\n",
    "# Save the modified data for train, validation, and test splits\n",
    "save_as_json(dataset['train'], 'train.json')\n",
    "save_as_json(dataset['validation'], 'validation.json')\n",
    "save_as_json(dataset['test'], 'test.json')\n"
   ],
   "id": "710c62f749d8088d",
   "outputs": [],
   "execution_count": 1
  },
  {
   "metadata": {},
   "cell_type": "markdown",
   "source": "生成答案是原始文本、不包含选项符号的Multiple Choice的prompt（考虑了多种语言的格式，使用4options）",
   "id": "47897e4f7bc3c194"
  },
  {
   "metadata": {
    "ExecuteTime": {
     "end_time": "2024-09-11T07:56:42.237083Z",
     "start_time": "2024-09-11T07:56:35.301099Z"
    }
   },
   "cell_type": "code",
   "source": [
    "from datasets import load_dataset\n",
    "import os\n",
    "import json\n",
    "\n",
    "# Choose Language\n",
    "language = \"en\"  # Change this to 'en' or 'zh' for English or Simplified Chinese\n",
    "\n",
    "# Load the dataset\n",
    "dataset = load_dataset(\"med_qa\", f\"med_qa_{language}_4options_bigbio_qa\", trust_remote_code=True)\n",
    "\n",
    "# Define the save path\n",
    "save_path = f\"data/llama-factory/{language}/multiple-choice\"  # Change this path to your local directory\n",
    "os.makedirs(save_path, exist_ok=True)\n",
    "\n",
    "# Function to save data as JSON with specified columns\n",
    "def save_as_json(data, filename):\n",
    "    file_path = os.path.join(save_path, filename)\n",
    "    \n",
    "    # Modify the data to include 'question', 'choices', and 'answer' columns\n",
    "    if language == 'en':\n",
    "        data_to_save = [{\n",
    "            \"instruction\": \"Assuming you are a doctor, please answer the following multiple-choice question based on the patient's symptoms (give the answers directly).\",\n",
    "            \"input\": f\"Question: {item['question']}\\nOptions:\\n\" + \"\\n\".join([f\"\\t{choice}\" for i, choice in enumerate(item['choices'])]),\n",
    "            \"output\": item['answer'][0]  # Convert the correct answer to A, B, C, or D\n",
    "        } for item in data]\n",
    "    elif language == 'zh':\n",
    "        data_to_save = [{\n",
    "            \"instruction\": \"假设您是一名医生，请根据患者的症状回答以下选择题（直接给出答案）。\",\n",
    "            \"input\": f\"问题：{item['question']}\\n选项：\\n\" + \"\\n\".join([f\"\\t{choice}\" for i, choice in enumerate(item['choices'])]),\n",
    "            \"output\": item['answer'][0]  # Convert the correct answer to A, B, C, or D\n",
    "        } for item in data]\n",
    "    else:\n",
    "        raise ValueError(f\"Language '{language}' is not supported. Please choose 'en', 'zh' or 'tw'.\")\n",
    "    \n",
    "    # Write the modified data to a JSON file\n",
    "    with open(file_path, 'w', encoding='utf-8') as f:\n",
    "        json.dump(data_to_save, f, ensure_ascii=False, indent=4)\n",
    "\n",
    "# Save the modified data for train, validation, and test splits\n",
    "save_as_json(dataset['train'], 'train.json')\n",
    "save_as_json(dataset['validation'], 'validation.json')\n",
    "save_as_json(dataset['test'], 'test.json')\n"
   ],
   "id": "2556fe7ace27695",
   "outputs": [],
   "execution_count": 4
  },
  {
   "metadata": {},
   "cell_type": "code",
   "outputs": [],
   "execution_count": null,
   "source": "",
   "id": "5485c6b48642a378"
  }
 ],
 "metadata": {
  "kernelspec": {
   "display_name": "Python 3",
   "language": "python",
   "name": "python3"
  },
  "language_info": {
   "codemirror_mode": {
    "name": "ipython",
    "version": 2
   },
   "file_extension": ".py",
   "mimetype": "text/x-python",
   "name": "python",
   "nbconvert_exporter": "python",
   "pygments_lexer": "ipython2",
   "version": "2.7.6"
  }
 },
 "nbformat": 4,
 "nbformat_minor": 5
}
