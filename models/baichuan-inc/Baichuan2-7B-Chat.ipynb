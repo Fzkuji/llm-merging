{
 "cells": [
  {
   "metadata": {},
   "cell_type": "markdown",
   "source": [
    "Huh?\n",
    "\n",
    "https://huggingface.co/baichuan-inc/Baichuan2-7B-Chat\n",
    "\n"
   ],
   "id": "52e35ab602746381"
  },
  {
   "metadata": {
    "ExecuteTime": {
     "end_time": "2024-12-16T02:49:02.161516Z",
     "start_time": "2024-12-16T02:49:02.159090Z"
    }
   },
   "cell_type": "code",
   "source": [
    "import torch\n",
    "from transformers import AutoModelForCausalLM, AutoTokenizer\n",
    "from transformers.generation.utils import GenerationConfig\n",
    "tokenizer = AutoTokenizer.from_pretrained(\"baichuan-inc/Baichuan2-7B-Chat\", use_fast=False, trust_remote_code=True)\n",
    "model = AutoModelForCausalLM.from_pretrained(\"baichuan-inc/Baichuan2-7B-Chat\", device_map=\"auto\", torch_dtype=torch.bfloat16, trust_remote_code=True)\n",
    "model.generation_config = GenerationConfig.from_pretrained(\"baichuan-inc/Baichuan2-7B-Chat\")"
   ],
   "id": "b2b9bf21706f0024",
   "outputs": [],
   "execution_count": 1
  },
  {
   "metadata": {
    "ExecuteTime": {
     "end_time": "2024-12-16T02:49:05.012632Z",
     "start_time": "2024-12-16T02:49:05.010801Z"
    }
   },
   "cell_type": "code",
   "source": [
    "# Prompt content: \"hi\"\n",
    "prompt = \"问题：胃癌最主要的转移途径是（　　）。\\n选项：\\n\\t直接蔓延\\n\\t淋巴转移\\n\\t血行转移\\n\\t盆腔转移\"\n",
    "messages = [\n",
    "    {\"role\": \"system\", \"content\": \"假设您是一名医生，请直接输出下面选择题的正确答案，不需要额外回答。\"},\n",
    "    {\"role\": \"user\", \"content\": prompt}\n",
    "]\n",
    "\n",
    "response = model.chat(tokenizer, messages, max_length=200)\n",
    "print(response)"
   ],
   "id": "baefa310a8ba7d23",
   "outputs": [],
   "execution_count": 2
  },
  {
   "metadata": {
    "ExecuteTime": {
     "end_time": "2024-12-16T02:49:10.058336Z",
     "start_time": "2024-12-16T02:49:10.055863Z"
    }
   },
   "cell_type": "code",
   "source": [
    "# Prompt content: \"hi\"\n",
    "prompt = \"Question: A 72-year-old woman is admitted to the intensive care unit for shortness of breath and palpitations. A cardiac catheterization is performed and measurements of the left ventricular volume and pressure at different points in the cardiac cycle are obtained. The patient's pressure-volume loop (gray) is shown with a normal pressure-volume loop (black) for comparison. Which of the following is the most likely underlying cause of this patient's symptoms?\\nOptions:\\n\\tMitral valve regurgitation\\n\\tIncreased systemic vascular resistance\\n\\tIncreased ventricular wall stiffness\\n\\tImpaired left ventricular contractility\"\n",
    "messages = [\n",
    "    {\"role\": \"system\", \"content\": \"Assuming you are a doctor, please directly output the right answer to the following multiple-choice question without any explanation.\"},\n",
    "    {\"role\": \"user\", \"content\": prompt}\n",
    "]\n",
    "\n",
    "input_ids = tokenizer.apply_chat_template(conversation=messages, tokenize=True, return_tensors='pt')\n",
    "output_ids = model.generate(input_ids.to('cuda'), eos_token_id=tokenizer.eos_token_id, max_length=200)\n",
    "response = tokenizer.decode(output_ids[0][input_ids.shape[1]:], skip_special_tokens=True)\n",
    "\n",
    "# Model response: \"Hello! How can I assist you today?\"\n",
    "print(response)"
   ],
   "id": "eaab133facb21301",
   "outputs": [],
   "execution_count": 3
  }
 ],
 "metadata": {
  "kernelspec": {
   "display_name": "Python 3",
   "language": "python",
   "name": "python3"
  },
  "language_info": {
   "codemirror_mode": {
    "name": "ipython",
    "version": 2
   },
   "file_extension": ".py",
   "mimetype": "text/x-python",
   "name": "python",
   "nbconvert_exporter": "python",
   "pygments_lexer": "ipython2",
   "version": "2.7.6"
  }
 },
 "nbformat": 4,
 "nbformat_minor": 5
}
